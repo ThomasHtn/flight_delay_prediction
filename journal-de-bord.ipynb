{
 "cells": [
  {
   "cell_type": "markdown",
   "metadata": {},
   "source": [
    "# Journal de bord"
   ]
  },
  {
   "cell_type": "markdown",
   "metadata": {},
   "source": [
    "## 📅 Jour 1 (10/07/2025)\n",
    "\n",
    "### 🔧 Étapes / Actions réalisées\n",
    "- Définition d'un environnement de travail (.venv)\n",
    "- Première exploration des jeux de données se trouvant dans le dossier \"data\". Cette exploration est réalisé dans le notebook [matrice-notebook](/matrice-notebook.ipynb)\n",
    "- Sauvegarde du travail sur un repo git\n",
    "\n",
    "### 📝 Observations / Difficultés\n",
    "- Beaucoup de données à traiter\n",
    "- Certains fichiers ne sont pas formatés correctement.\n",
    "\n",
    "### ✅ Prochaines étapes\n",
    "- Trouver la column target\n",
    "- Continuer d'explorer les données\n"
   ]
  },
  {
   "cell_type": "markdown",
   "metadata": {},
   "source": [
    "---"
   ]
  },
  {
   "cell_type": "markdown",
   "metadata": {},
   "source": [
    "## 📅 Jour 2 (11/07/2025)\n",
    "\n",
    "### 🔧 Étapes / Actions réalisées\n",
    "- Analyse en profondeur des données\n",
    "- Nettoyage du dataset\n",
    "- Récupération de la column target\n",
    "\n",
    "### 📝 Observations / Difficultés\n",
    "- Jeu de données complet avec seulement quelques colonnes non utilisables\n",
    "\n",
    "### ✅ Prochaines étapes\n",
    "- Continuer l'analyse en profondeur pour émètre des hypothèses"
   ]
  },
  {
   "cell_type": "markdown",
   "metadata": {},
   "source": [
    "---"
   ]
  },
  {
   "cell_type": "markdown",
   "metadata": {},
   "source": [
    "## 📅 Jour 3 (17/07/2025)\n",
    "\n",
    "### 🔧 Étapes / Actions réalisées\n",
    "- Finalisation de l'analyse en profondeur\n",
    "- Emission d'hypothèses\n",
    "\n",
    "### 📝 Observations / Difficultés\n",
    "- La majorité des hypothèses s'avèrent valides\n",
    "\n",
    "### ✅ Prochaines étapes\n",
    "- Mettre en forme le notebook"
   ]
  },
  {
   "cell_type": "markdown",
   "metadata": {},
   "source": [
    "---"
   ]
  },
  {
   "cell_type": "markdown",
   "metadata": {},
   "source": [
    "## 📅 Jour 4 (18/07/2025)\n",
    "\n",
    "### 🔧 Étapes / Actions réalisées\n",
    "- Mise en forme du notebook\n",
    "- Tentative d'agregation des données (car au final, l'analyse sur un seul fichier 01_2016 peut biaiser mon analyse)\n",
    "\n",
    "### 📝 Observations / Difficultés\n",
    "- Les données ne sont pas formatées correctement et ont besoin d'être retravaillées\n",
    "\n",
    "### ✅ Prochaines étapes\n",
    "- Corriger l'agragation"
   ]
  },
  {
   "cell_type": "markdown",
   "metadata": {},
   "source": [
    "---"
   ]
  },
  {
   "cell_type": "markdown",
   "metadata": {},
   "source": [
    "## 📅 Jour 5 (21/07/2025)\n",
    "\n",
    "### 🔧 Étapes / Actions réalisées\n",
    "- Reprise de l'analyse avec l'ensemble des données nettoyées et corrigées\n",
    "- Émission de nouvelles hypothèses\n",
    "- Ajout d'une heatmap de corrélation\n",
    "\n",
    "### 📝 Observations / Difficultés\n",
    "- Beaucoup de colonnes supprimées car non éthiques ou non conformes \n",
    "- Effectivement, le mois a un impact sur le retard d'un avion, l'agrégation des données était importante\n",
    "\n",
    "### ✅ Prochaines étapes\n",
    "- Implementer l'architecture de l'application. Et plus particulièrement, insérer les données dans une BDD"
   ]
  },
  {
   "cell_type": "markdown",
   "metadata": {},
   "source": [
    "---"
   ]
  },
  {
   "cell_type": "markdown",
   "metadata": {},
   "source": [
    "## 📅 Jour 6 (22/07/2025)\n",
    "\n",
    "### 🔧 Étapes / Actions réalisées\n",
    "- \n",
    "\n",
    "### 📝 Observations / Difficultés\n",
    "- \n",
    "\n",
    "### ✅ Prochaines étapes\n",
    "- "
   ]
  },
  {
   "cell_type": "markdown",
   "metadata": {},
   "source": []
  }
 ],
 "metadata": {
  "language_info": {
   "name": "python"
  }
 },
 "nbformat": 4,
 "nbformat_minor": 2
}
