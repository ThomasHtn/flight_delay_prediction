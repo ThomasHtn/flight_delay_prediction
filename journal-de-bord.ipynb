{
 "cells": [
  {
   "cell_type": "markdown",
   "metadata": {},
   "source": [
    "# Journal de bord"
   ]
  },
  {
   "cell_type": "markdown",
   "metadata": {},
   "source": [
    "## 📅 Journal de bord – Jour 1 (10/07/2025)\n",
    "\n",
    "### 🔧 Étapes / Actions réalisées\n",
    "- Définition d'un environnement de travail (.venv)\n",
    "- Première exploration des jeux de données se trouvant dans le dossier \"data\". Cette exploration est réalisé dans le notebook [matrice-notebook](/matrice-notebook.ipynb)\n",
    "- Sauvegarde du travail sur un repo git\n",
    "\n",
    "### 📝 Observations / Difficultés\n",
    "- Beaucoup de données à traiter\n",
    "- Certains fichiers ne sont pas formatés correctement.\n",
    "\n",
    "### ✅ Prochaines étapes\n",
    "- Trouver ma column target\n",
    "- Continuer d'explorer mes données\n"
   ]
  },
  {
   "cell_type": "markdown",
   "metadata": {},
   "source": [
    "---"
   ]
  },
  {
   "cell_type": "markdown",
   "metadata": {},
   "source": [
    "## 📅 Journal de bord – Jour 2 (11/07/2025)\n",
    "\n",
    "### 🔧 Étapes / Actions réalisées\n",
    "- Analyse en profondeur des données\n",
    "- Nettoyage du dataset\n",
    "- Récupération de la column target\n",
    "\n",
    "### 📝 Observations / Difficultés\n",
    "- Jeu de données complet avec seulement quelques colonnes non utilisables\n",
    "\n",
    "### ✅ Prochaines étapes\n",
    "- Continuer l'analyse en profondeur pour émètre des hypothèses"
   ]
  },
  {
   "cell_type": "markdown",
   "metadata": {},
   "source": [
    "---"
   ]
  },
  {
   "cell_type": "markdown",
   "metadata": {},
   "source": [
    "## 📅 Journal de bord – Jour 3 (17/07/2025)\n",
    "\n",
    "### 🔧 Étapes / Actions réalisées\n",
    "- Finalisation de l'analyse en profondeur\n",
    "- Emission d'hypothèses\n",
    "\n",
    "### 📝 Observations / Difficultés\n",
    "- La majorité des hypothèses s'avèrent valides\n",
    "\n",
    "### ✅ Prochaines étapes\n",
    "- Mettre en forme le notebook"
   ]
  },
  {
   "cell_type": "markdown",
   "metadata": {},
   "source": [
    "---"
   ]
  },
  {
   "cell_type": "markdown",
   "metadata": {},
   "source": [
    "## 📅 Journal de bord – Jour 4 (18/07/2025)\n",
    "\n",
    "### 🔧 Étapes / Actions réalisées\n",
    "- Mise en forme du notebook\n",
    "- Tentative d'agregation des données\n",
    "\n",
    "### 📝 Observations / Difficultés\n",
    "- \n",
    "\n",
    "### ✅ Prochaines étapes\n",
    "- "
   ]
  },
  {
   "cell_type": "markdown",
   "metadata": {},
   "source": [
    "## 📅 Journal de bord – Jour 4 (18/07/2025)\n",
    "\n",
    "### 🔧 Étapes / Actions réalisées\n",
    "- \n",
    "\n",
    "### 📝 Observations / Difficultés\n",
    "- \n",
    "\n",
    "### ✅ Prochaines étapes\n",
    "- "
   ]
  }
 ],
 "metadata": {
  "language_info": {
   "name": "python"
  }
 },
 "nbformat": 4,
 "nbformat_minor": 2
}
